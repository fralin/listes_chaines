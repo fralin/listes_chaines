{
 "cells": [
  {
   "cell_type": "markdown",
   "metadata": {},
   "source": [
    "# TP 6 Liste et Chaines de caractères"
   ]
  },
  {
   "cell_type": "markdown",
   "metadata": {},
   "source": [
    "## Listes\n",
    "### Construction de listes\n",
    "__Rappels :__\n",
    "\n",
    "- On peut définir une liste en l'écrivant explicitement :\n",
    "```python\n",
    "    maListe = [2 ,7 ,8]\n",
    "\t>>> maListe\n",
    "\t[2 ,7 ,8]\n",
    "```\n",
    "- On peut aussi définir une liste à partir d'un générateur, comme dans la boucle for\n",
    "```python \n",
    "    uneListe = list ( range (20) )\n",
    "\t>>> uneListe\n",
    "\t[0 ,1 ,2 ,3 ,4 ,5 ,6 ,7 ,8 ,9 ,10 ,11 ,12 ,13 ,14 ,15 ,16 ,17 ,18 ,19]\n",
    "```\n",
    "- Les éléments de la liste sont obtenus par leur indice sous la forme\n",
    "```python\n",
    "    maListe [1]\n",
    "\t7\n",
    "    ```\n",
    "    \n",
    "\tOn remarquera que les indices commencent à 0. Python permet aussi d'accéder aux éléments depuis la fin :\n",
    "\tle dernier élément a l'indice -1, le précédent l'indice -2 et on continue jusqu'au premier \n",
    "\tqui a l'indice -n où n est la longueur de la liste.\n",
    "- On peut modifier un élément avec les mêmes moyens :\n",
    "```python\n",
    "\t>>> maListe [1]=5\n",
    "\t>>> maListe [-1]=3\n",
    "\t>>> maListe\n",
    "\t[2 , 5 , 3]\n",
    "```\n",
    "- Le nombre d'éléments d'une liste, sa longueur, est donné par :\n",
    "```python\n",
    "\t>>> len( maListe )\n",
    "\t3\n",
    "```\n",
    "- On a vu aussi les opérations de concaténation :\n",
    "```python\n",
    "\t>>> l = [1 ,5 ,4 ,8]\n",
    "\t>>> ll = [2 ,4 ,7]\n",
    "\t>>> l + ll\n",
    "\t[1 ,5 ,4 ,8 ,2 ,4 ,7]\n",
    "\t>>> l *3\n",
    "\t[1 ,5 ,4 ,8 ,1 ,5 ,4 ,8 ,1 ,5 ,4 ,8]\n",
    "```\n",
    "- Ainsi que les opérations d'extraction :\n",
    "```python\n",
    "\t>>> ll = [3 ,1 ,4 ,1 ,5 ,9 ,2 ,6 ,5 ,2]\n",
    "\t>>> ll [2:7]\n",
    "\t[4 ,1 ,5 ,9 ,2]\n",
    "\t>>> ll [: -3] # on enleve les 3 derniers termes\n",
    "\t[3 ,1 ,4 ,1 ,5 ,9 ,2]\n",
    "\t>>> ll [2::3] # 1 terme sur 3 a partir de l [2]\n",
    "\t[4 , 9 , 5]\n",
    "```\n",
    "- Suppression d'éléments dans une liste:\n",
    "```python\n",
    "\t>>> ll = [3 ,1 ,4 ,1 ,5 ,9 ,2 ,6 ,5 ,2]\n",
    "\t>>> del l1[2] #enleve le 3e element\n",
    "\t>>> l2.remove(3)   #enleve le premier 3 de la liste\n",
    "\t>>> l2.pop()   enlève et renvoie le dernier terme\n",
    "\t>>> l2.pop(n)  enlève et renvoie le terme d'indice n.\n",
    "\t>>> l2.insert(4,12)   #insert un 12 en position 4.\t\n",
    "```\n",
    "\n",
    "__Une nouveauté : ```L.append```__\n",
    "\n",
    "Les listes, comme tout ce qui est employé dans Python, sont des objets.\n",
    "Un objet définit des fonctions associées : les méthodes, on les lui applique\n",
    "par l'appel d'une procédure de la forme nomDeListe.methode(parametres).\n",
    "\n",
    "Ceci ne produit pas une nouvelle liste mais modifie celle à laquelle est\n",
    "appliquée la méthode. La méthode qui nous intéresse est ```L.append(x)``` qui ajoute un élément ```x``` au bout de la liste ```L``` :\n",
    "```python\n",
    ">>> l = [1 ,5 ,4 ,8]\n",
    ">>> l.append(3)\n",
    ">>> l\n",
    "[1 ,5 ,4 ,8 ,3]\n",
    "```\n",
    "\n",
    "C'est un bon moyen pour fabriquer une liste en ajoutant des termes successivement."
   ]
  },
  {
   "cell_type": "markdown",
   "metadata": {},
   "source": [
    "__Exercice 1 : (Construction d'une liste aléatoire)__\n",
    "Ecrire une fonction ```generer_liste(N,a,b)``` qui renvoie une liste de N nombres entiers aléatoires compris entre a et b.\n",
    "Rappel: ```random.randint(a, b)``` retourne un nombre entier choisi au  \"hasard\" dans $[\\![a;b]\\!]$.\n",
    "Pour utiliser cette fonction, il faut importer la librairie ```random```\n",
    "\n",
    "*Faire:* ```import random``` \n",
    "\n"
   ]
  },
  {
   "cell_type": "code",
   "execution_count": 1,
   "metadata": {},
   "outputs": [],
   "source": [
    "## Code ici"
   ]
  },
  {
   "cell_type": "markdown",
   "metadata": {},
   "source": [
    "### Recherche dans une liste\n",
    "\n",
    "**Exercice 2 : Recherche d'un nombre dans une liste**\n",
    "Ecrire une fonction qui cherche dans une liste le nombre d'occurrence  d'une valeur donnée (le nombre de fois où la valeur apparaît). La liste et la valeur seront en entrée et le nombre d'occurrence en sortie. (Penser à mettre une documentation minimale avec entrée, sortie et exemple)"
   ]
  },
  {
   "cell_type": "code",
   "execution_count": null,
   "metadata": {},
   "outputs": [],
   "source": [
    "## Code ici"
   ]
  },
  {
   "cell_type": "markdown",
   "metadata": {},
   "source": [
    "**Exercice 3 : Recherche du maximum d'une liste**\n",
    "Ecrire une fonction qui cherche la valeur maximale dans une liste de nombres avec en \n",
    "entrée la liste et en sortie le maximum. \n",
    "On pourra mettre en place une variable maximum initialisée avec la première valeur de la liste et mise à jour au fur et à mesure du parcours de la liste."
   ]
  },
  {
   "cell_type": "code",
   "execution_count": null,
   "metadata": {},
   "outputs": [],
   "source": [
    "## Code ici"
   ]
  },
  {
   "cell_type": "markdown",
   "metadata": {},
   "source": [
    "**Exercice 4 :**\n",
    "Modifier la fonction précédente pour qu'elle fournisse aussi un indice en lequel le maximum est atteint."
   ]
  },
  {
   "cell_type": "code",
   "execution_count": null,
   "metadata": {},
   "outputs": [],
   "source": [
    "## Code ici"
   ]
  },
  {
   "cell_type": "markdown",
   "metadata": {},
   "source": [
    "**Exercice 5 : Pour les plus rapides**\n",
    "Modifier la fonction précédente pour qu'elle fournisse tous les indices en lequel le maximum est atteint."
   ]
  },
  {
   "cell_type": "code",
   "execution_count": null,
   "metadata": {},
   "outputs": [],
   "source": [
    "## Code ici"
   ]
  },
  {
   "cell_type": "markdown",
   "metadata": {},
   "source": [
    "### Moyenne, Variance d'une série statistique discrète\n",
    "\n",
    "**Exercice 6 :**\n",
    "\n",
    "Ecrire une fonction ```moyenne(l)``` qui détermine la moyenne arithmétique d'une liste de nombres.\n",
    "La liste sera en entrée et la moyenne en sortie."
   ]
  },
  {
   "cell_type": "markdown",
   "metadata": {},
   "source": [
    "**Exercice 7 :**\n",
    "\n",
    "Lorsque l'on dispose d'une liste $a_0,\\cdots,\\;a_n$ de nombres, l'écart-type est défini par la formule :\n",
    "\n",
    "$$\\sigma = \\sqrt{\\frac{1}{n} \\sum_{i=0}^n (a_i - \\overline{a})^2 }\n",
    "\t\t=\t\\sqrt{\\frac{1}{n} \\sum_{i=0}^n a_i^2 - \\overline{a}^2 }$$\n",
    "où $\\overline{a}$ est la moyenne arithmétique des $a_i$.\\\\\n",
    "L'écart-type donne une mesure de l'écart à la moyenne des $a_i$, \n",
    "un écart-type faible signifie que les $a_i$ sont globalement proches de la moyenne, \n",
    "et un écart-type élevé signifie qu'il y a de forte fluctuation autour de la moyenne.\n",
    "\n",
    "- Compléter la fonction\n",
    "\n",
    "```python\n",
    "import numpy as np\n",
    "\n",
    "def ecarttype(liste):\n",
    "\t\"\"\"liste : liste de nombre\n",
    "\tecarttype (liste) nombre egal a l'ecart-type de liste\n",
    "\t\"\"\"\n",
    "\ts=0\n",
    "\tn=len(liste)\n",
    "\tif n<=1 :\n",
    "\t\treturn (\" La liste doit contenir au moins deux elements \")\n",
    "\tm=moyenne(liste)\n",
    "\tfor i in range(n) : #ou for elt in liste\n",
    "\t\t\n",
    "\t\t\t\tA COMPLETER\t\t\n",
    "\t\t\t\t\n",
    "\treturn (\t\t\t\t)\n",
    "\n",
    "```\n",
    "- Tester cette fonction sur la liste suivante $[10,14,10,14,10,14]$.\n",
    "\n"
   ]
  },
  {
   "cell_type": "markdown",
   "metadata": {},
   "source": [
    "## Chaine de caractères\n",
    "\n",
    "### Rappel sur les méthodes\n",
    "Dans le premier chapitre , nous avons rencontré les chaînes de caractères.\n",
    "\n",
    "La chaîne de caractères vide s'écrit ” ou \" \". Un certain nombre de\n",
    "méthodes sont associées à l'objet chaînes de caractères :\n",
    "\n",
    "- ```len(a)``` : longueur de la chaîne de caractères a\n",
    "- ```a[i]``` : accès au i-ème élément de a\n",
    "- ```a[i:j]``` : accès à une sous-chaîne\n",
    "- ```a+b``` : concaténation des chaînes a et b\n",
    "- ```list(a)``` : transforme la chaîne de caractères a en une liste\n",
    " \n",
    "Illustrons avec quelques lignes de code :\n",
    "```python\n",
    ">>> a = \"je vais bien\"\n",
    ">>> len(a)\n",
    "12\n",
    ">>> a.__len__()\n",
    "12\n",
    ">>> a[6]\n",
    "'s' # numerotation a partir de 0\n",
    ">>> a[3:8]\n",
    "'vais' # on a recupere l'espace mais pas le 'b'\n",
    "```\n",
    "\n",
    "### Retour sur les entrées-sorties}\n",
    "Nous avons déjà rencontré les termes $print$ et $input$. Détaillons quelques aspects.\n",
    "\n",
    "- Avec print (pour la version Python 3), on dispose d'un séparateur :\n",
    "```python\n",
    ">>> x, y, z = 3, 10, 25\n",
    ">>> print(x, y, z, sep=';')\n",
    "3; 10; 25\n",
    ">>> print(x, y, z, sep='\\n')\n",
    "3\n",
    "10\n",
    "25\n",
    ">>> print('x=',x,sep=' ',end=';');print('y=',y,sep=' ',end='\\n');print(z)\n",
    "x= 3;y=10\n",
    "25\n",
    "```\n",
    "\n",
    "- On peut utiliser aussi la méthode format pour insérer les valeurs de certaines variables dans un $print$:\n",
    "```python\n",
    ">>> x, y, z = 3, 10, 25\n",
    ">>> print(\"{}; {}; {}\".format(x,y,z))\n",
    "3; 10; 25\n",
    "```\n",
    "\n",
    "- On dispose pour les chaînes de caractères de la méthode format ; cela permet de remplacer certains champs (mis entre accolades) de la chaîne de caractères par des valeurs passées en argument de la fonction format . On peut préciser le gabarit de l'affichage . Regardons cela sur quelques exemples :\n",
    "\n",
    "```python\n",
    ">>> x = 12.3458189\n",
    ">>> '{:g}'.format(x) # choisit le format le plus adapte\n",
    "'12.3458'\n",
    ">>> '{:.3f}'.format(x) # fixe le nombre de decimales\n",
    "'12.346'\n",
    ">>> '{:.4e}'.format(x) # notation scientifique\n",
    "'1.2346e+01'\n",
    "```\n",
    "- L'instruction de lecture input permet de demander à l'utilisateur de fournir des données en cours d'exécution de programme qui seront systématiquement récupérées sous forme d'une chaîne de caractères. Il faut penser à transformer cette chaîne de caractères dans le type souhaité :\n",
    "```python\n",
    ">>> x = int(input ('Entrez une valeur entiere x :'))\n",
    ">>> print(\"{}+1={}\".format(x, x + 1))\n",
    "```\n",
    "ce qui donne alors :\n",
    "```python\n",
    ">>> Entrez une valeur x : 7\n",
    "7 + 1 = 8\n",
    "```"
   ]
  },
  {
   "cell_type": "markdown",
   "metadata": {},
   "source": [
    "### Recherche d'une lettre dans une chaîne de caractères}\n",
    "\n",
    "**Exercice 8 :**\n",
    "Expliquer ce que fait la fonction suivante; compléter sa documentation :\n",
    "```python\n",
    "def recherche(chaine,lettre):\n",
    "    \"\"\"entree: lettre: une chaine de un seul caractere\n",
    "                chaine: une chaine de caractere\n",
    "    \n",
    "    \"\"\"\n",
    "    n =len(chaine)\n",
    "    for i in range(n):\n",
    "        if chaine[i]== lettre:\n",
    "            return True\n",
    "    return False\n",
    "```"
   ]
  },
  {
   "cell_type": "code",
   "execution_count": null,
   "metadata": {},
   "outputs": [],
   "source": [
    "## Code ici"
   ]
  },
  {
   "cell_type": "markdown",
   "metadata": {},
   "source": [
    "**Exercice 9 :**\n",
    "\n",
    "Créer une fonction ```occurrence(chaine,lettre)``` en modifiant la fonction précédente pour qu'elle donne l'indice de la première occurrence de $a$ en cas de succès et False sinon."
   ]
  },
  {
   "cell_type": "code",
   "execution_count": null,
   "metadata": {},
   "outputs": [],
   "source": [
    "## code ici"
   ]
  },
  {
   "cell_type": "markdown",
   "metadata": {},
   "source": [
    "**Exercice 10 :**\n",
    "\n",
    "Modifier la fonction précédente en une fonction ```occurrences(chaine,lettre)``` pour qu'elle donne la liste des indices de toutes les occurrences de $a$."
   ]
  },
  {
   "cell_type": "code",
   "execution_count": null,
   "metadata": {},
   "outputs": [],
   "source": [
    "## code ici"
   ]
  },
  {
   "cell_type": "markdown",
   "metadata": {},
   "source": [
    "**Exercice 11: (Francais ou Anglais)**\n",
    "\n",
    "On se propose d’écrire un programme qui distingue un texte français d'un texte anglais. Pour cela on se base sur la fréquence des lettres “t” et “s” dans les deux langues.\n",
    "\n",
    "-  si le nombre de “t” est strictement plus grand que le nombre de “s” alors le texte est probablement de l’anglais.\n",
    "-  sinon le texte est probablement du français.\n",
    "\n",
    "Bien évidemment, ce test est rudimentaire et fournira une réponse même si le texte est en italien, mais on fera l’hypothèse que le texte est soit en anglais soit en français.\n",
    "\n",
    "- Ecrire une fonction ```francais_ou_anglais(texte)``` qui répond à la question, en affichant une phrase ou par un True ou False. Vous utiliserez la fonction ```occurrences(chaine,lettre)``` pour dénombrer le nombre de t et de s dans le texte.\n",
    "- Modifier la fonction pour qu'elle affiche un message d'avertissement si le texte comporte moins de 100 caractères.\n",
    "- On veut à présent tester l’efficacité de cette fonction. Pour cela,on récupère un fichier contenant des textes en français ou en anglais: testlangue.py; le fichier est dans le commun.\n",
    "\n",
    "Pour accéder au fichier, il faut donner le chemin d'accès:\n",
    "```python\n",
    ">>> import sys\n",
    ">>> sys.path.append(\"adresse de repertoire contenant le fichier\" )\n",
    ">>> import testlangue as tl\n",
    "```\n",
    "\n",
    "Taper ce code dans votre console. Ce fichier contient 10 textes nommés text1,. . .,text10. Pour accéder à un des texte, il suffit de taper:\n",
    "```python\n",
    ">>> tl.text1\n",
    "```\n",
    "Testez votre code sur les différents textes.\n"
   ]
  },
  {
   "cell_type": "code",
   "execution_count": 2,
   "metadata": {},
   "outputs": [],
   "source": [
    "## Code ici"
   ]
  },
  {
   "cell_type": "markdown",
   "metadata": {},
   "source": [
    "### Recherche d'un mot dans une chaîne de caractères. Pour les plus rapides.}\n",
    "\n",
    "Supposons $t$ un texte et $p$ une chaîne de caractères de longueur inférieure\n",
    "à celle de $t$.\n",
    "\n",
    "$p$ est-elle une sous-chaîne de $t$ ?\n",
    "Et si oui, combien de fois $p$ apparaît-elle si on lit $t$ en entier ?\n",
    "\n",
    "**Exercice 12 :**\n",
    "\n",
    "Créer une fonction ```trouver_mot(texte,mot)``` qui déterminer si un mot est présent dans un texte.\n",
    "Pour ce faire, on va \"faire glisser \" le motif le long du texte et repérer au fil de la lecture la première occurrence de $p$.\n"
   ]
  },
  {
   "cell_type": "code",
   "execution_count": null,
   "metadata": {},
   "outputs": [],
   "source": [
    "## Code ici"
   ]
  },
  {
   "cell_type": "markdown",
   "metadata": {},
   "source": [
    "**Exercice 12 :**\n",
    "Modifier la fonction précédente pour créer la fonction ```occurrences_mot(texte,mot)``` qui renvoie le nombre d'occurences du mot dans le texte\n"
   ]
  },
  {
   "cell_type": "code",
   "execution_count": null,
   "metadata": {},
   "outputs": [],
   "source": [
    "## Code ici"
   ]
  },
  {
   "cell_type": "markdown",
   "metadata": {},
   "source": [
    "**Exercice 14 :**\n",
    "Testez la fonction précédente en cherchant le mot \"bon\" dans le texte \"quel bon bonbon il est vraiment très bon\"\n",
    "\n",
    "Si vous ne trouvez pas 2 mais 4, comment remédier à ce problème? On supposera les textes écrit sans majuscule ni ponctuation.\n"
   ]
  },
  {
   "cell_type": "code",
   "execution_count": null,
   "metadata": {},
   "outputs": [],
   "source": [
    "## Code ici"
   ]
  }
 ],
 "metadata": {
  "kernelspec": {
   "display_name": "Python 3",
   "language": "python",
   "name": "python3"
  },
  "language_info": {
   "codemirror_mode": {
    "name": "ipython",
    "version": 3
   },
   "file_extension": ".py",
   "mimetype": "text/x-python",
   "name": "python",
   "nbconvert_exporter": "python",
   "pygments_lexer": "ipython3",
   "version": "3.7.6"
  }
 },
 "nbformat": 4,
 "nbformat_minor": 4
}
